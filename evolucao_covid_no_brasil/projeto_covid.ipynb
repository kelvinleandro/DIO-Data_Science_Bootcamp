{
 "cells": [
  {
   "cell_type": "markdown",
   "metadata": {
    "id": "toNQv0P-jYl9"
   },
   "source": [
    "## Bibliotecas"
   ]
  },
  {
   "cell_type": "code",
   "execution_count": null,
   "metadata": {
    "id": "BC9qL4ZyXhsu"
   },
   "outputs": [],
   "source": [
    "import pandas as pd\n",
    "import numpy as np\n",
    "from datetime import datetime\n",
    "import plotly.express as px\n",
    "import plotly.graph_objects as go\n",
    "import re\n",
    "from statsmodels.tsa.seasonal import seasonal_decompose\n",
    "import matplotlib.pyplot as plt\n",
    "from pmdarima.arima import auto_arima"
   ]
  },
  {
   "cell_type": "markdown",
   "metadata": {
    "id": "ZUnZ5o-hjjY7"
   },
   "source": [
    "## Importanto e tratando os dados"
   ]
  },
  {
   "cell_type": "code",
   "execution_count": null,
   "metadata": {
    "executionInfo": {
     "elapsed": 9,
     "status": "ok",
     "timestamp": 1666739228920,
     "user": {
      "displayName": "Kelvin Leandro",
      "userId": "17919846364529882488"
     },
     "user_tz": 180
    },
    "id": "e8Gojt4JZVtp"
   },
   "outputs": [],
   "source": [
    "url = './covid_19_data.csv'"
   ]
  },
  {
   "cell_type": "code",
   "execution_count": null,
   "metadata": {
    "colab": {
     "base_uri": "https://localhost:8080/",
     "height": 852
    },
    "executionInfo": {
     "elapsed": 411,
     "status": "ok",
     "timestamp": 1666739231880,
     "user": {
      "displayName": "Kelvin Leandro",
      "userId": "17919846364529882488"
     },
     "user_tz": 180
    },
    "id": "KPUvWoPcZZbG",
    "outputId": "047df680-9333-4f30-c6ab-1c56fa9ff21f"
   },
   "outputs": [],
   "source": [
    "df = pd.read_csv(url, parse_dates=['ObservationDate', 'Last Update'])\n",
    "df"
   ]
  },
  {
   "cell_type": "code",
   "execution_count": null,
   "metadata": {
    "colab": {
     "base_uri": "https://localhost:8080/"
    },
    "executionInfo": {
     "elapsed": 293,
     "status": "ok",
     "timestamp": 1666739290370,
     "user": {
      "displayName": "Kelvin Leandro",
      "userId": "17919846364529882488"
     },
     "user_tz": 180
    },
    "id": "JeZ4ThzTZxXJ",
    "outputId": "aa9abc3d-0cf8-4bd7-86eb-206a18824320"
   },
   "outputs": [],
   "source": [
    "df.dtypes"
   ]
  },
  {
   "cell_type": "code",
   "execution_count": null,
   "metadata": {
    "executionInfo": {
     "elapsed": 5,
     "status": "ok",
     "timestamp": 1666739443971,
     "user": {
      "displayName": "Kelvin Leandro",
      "userId": "17919846364529882488"
     },
     "user_tz": 180
    },
    "id": "N0BEcxO2Z_2G"
   },
   "outputs": [],
   "source": [
    "def corrige_colunas(col_name):\n",
    "  return re.sub(r\"[/| ]\", \"\", col_name).lower()"
   ]
  },
  {
   "cell_type": "code",
   "execution_count": null,
   "metadata": {
    "executionInfo": {
     "elapsed": 300,
     "status": "ok",
     "timestamp": 1666739494116,
     "user": {
      "displayName": "Kelvin Leandro",
      "userId": "17919846364529882488"
     },
     "user_tz": 180
    },
    "id": "kFfbKaYOagr9"
   },
   "outputs": [],
   "source": [
    "df.columns = [corrige_colunas(col) for col in df.columns]"
   ]
  },
  {
   "cell_type": "markdown",
   "metadata": {
    "id": "U-F5nksgauMg"
   },
   "source": [
    "## Selecionando dados do Brasil"
   ]
  },
  {
   "cell_type": "code",
   "execution_count": null,
   "metadata": {
    "colab": {
     "base_uri": "https://localhost:8080/",
     "height": 661
    },
    "executionInfo": {
     "elapsed": 19,
     "status": "ok",
     "timestamp": 1666739568777,
     "user": {
      "displayName": "Kelvin Leandro",
      "userId": "17919846364529882488"
     },
     "user_tz": 180
    },
    "id": "nc1JojAoaxTw",
    "outputId": "0a4d4566-26ea-407d-b6ad-dc1bd8c67335"
   },
   "outputs": [],
   "source": [
    "df.loc[df.countryregion == 'Brazil']"
   ]
  },
  {
   "cell_type": "code",
   "execution_count": null,
   "metadata": {
    "colab": {
     "base_uri": "https://localhost:8080/",
     "height": 357
    },
    "executionInfo": {
     "elapsed": 350,
     "status": "ok",
     "timestamp": 1666739738070,
     "user": {
      "displayName": "Kelvin Leandro",
      "userId": "17919846364529882488"
     },
     "user_tz": 180
    },
    "id": "oYWmoGLTbH10",
    "outputId": "8318dbc8-9cfa-4b34-d531-e2e017b943d4"
   },
   "outputs": [],
   "source": [
    "brasil = df.loc[\n",
    "    (df.countryregion == 'Brazil') &\n",
    "    (df.confirmed > 0)\n",
    "]\n",
    "\n",
    "brasil.head()"
   ]
  },
  {
   "cell_type": "markdown",
   "metadata": {
    "id": "99IF4Q4fbkAj"
   },
   "source": [
    "## Casos confirmados"
   ]
  },
  {
   "cell_type": "code",
   "execution_count": null,
   "metadata": {
    "colab": {
     "base_uri": "https://localhost:8080/",
     "height": 542
    },
    "executionInfo": {
     "elapsed": 1313,
     "status": "ok",
     "timestamp": 1666739801634,
     "user": {
      "displayName": "Kelvin Leandro",
      "userId": "17919846364529882488"
     },
     "user_tz": 180
    },
    "id": "MeyTDXBnbl14",
    "outputId": "0181b83e-a9c6-402c-bc7c-55f9023c6fe5"
   },
   "outputs": [],
   "source": [
    "# Gráfico da evolução dos casos confirmados\n",
    "px.line(brasil, 'observationdate', 'confirmed', title='casos confirmados')"
   ]
  },
  {
   "cell_type": "markdown",
   "metadata": {
    "id": "eVoaAUlKb8J1"
   },
   "source": [
    "## Casos por dia"
   ]
  },
  {
   "cell_type": "code",
   "execution_count": null,
   "metadata": {
    "id": "mD8dlmxAb_gL"
   },
   "outputs": [],
   "source": [
    "brasil['novoscasos'] = list(map(\n",
    "    lambda x: 0 if (x==0) else brasil['confirmed'].iloc[x] - brasil['confirmed'].iloc[x-1],\n",
    "    np.arange(brasil.shape[0])\n",
    "))"
   ]
  },
  {
   "cell_type": "code",
   "execution_count": null,
   "metadata": {
    "colab": {
     "base_uri": "https://localhost:8080/",
     "height": 542
    },
    "executionInfo": {
     "elapsed": 294,
     "status": "ok",
     "timestamp": 1666740119995,
     "user": {
      "displayName": "Kelvin Leandro",
      "userId": "17919846364529882488"
     },
     "user_tz": 180
    },
    "id": "aq4MJpyBc38n",
    "outputId": "98c7a9c5-4836-4977-834e-00bff2c15b85"
   },
   "outputs": [],
   "source": [
    "px.line(brasil, 'observationdate', 'novoscasos', title='novos casos')"
   ]
  },
  {
   "cell_type": "markdown",
   "metadata": {
    "id": "ATQgRBpedJaG"
   },
   "source": [
    "## Casos de mortes"
   ]
  },
  {
   "cell_type": "code",
   "execution_count": null,
   "metadata": {
    "colab": {
     "base_uri": "https://localhost:8080/",
     "height": 542
    },
    "executionInfo": {
     "elapsed": 304,
     "status": "ok",
     "timestamp": 1666740361330,
     "user": {
      "displayName": "Kelvin Leandro",
      "userId": "17919846364529882488"
     },
     "user_tz": 180
    },
    "id": "UBnN-fbBdL7U",
    "outputId": "3ba4e2cd-f24c-4e22-eca2-c2aa87509ce8"
   },
   "outputs": [],
   "source": [
    "fig = go.Figure()\n",
    "fig.add_trace(\n",
    "    go.Scatter(x=brasil.observationdate, y=brasil.deaths, name='Mortes',\n",
    "               mode='lines+markers', line={'color':'red'})\n",
    ")\n",
    "fig.update_layout(title='Mortes por covid no brasil')\n"
   ]
  },
  {
   "cell_type": "markdown",
   "metadata": {
    "id": "FV699NVfeGEQ"
   },
   "source": [
    "## Taxa de crescimento"
   ]
  },
  {
   "cell_type": "code",
   "execution_count": null,
   "metadata": {
    "executionInfo": {
     "elapsed": 428,
     "status": "ok",
     "timestamp": 1666740735748,
     "user": {
      "displayName": "Kelvin Leandro",
      "userId": "17919846364529882488"
     },
     "user_tz": 180
    },
    "id": "m_L4sLmFeRyV"
   },
   "outputs": [],
   "source": [
    "def taxa_crescimento(data, var, data_ini=None, data_fim=None):\n",
    "  if data_ini == None:\n",
    "    data_ini = data.observationdate.loc[data[var] > 0].min()\n",
    "  else:\n",
    "    data_ini = pd.to_datetime(data_ini)\n",
    "\n",
    "  if data_fim == None:\n",
    "    data_fim = data.observationdate.iloc[-1]\n",
    "  else:\n",
    "    data_fim = pd.to_datetime(data_fim)\n",
    "\n",
    "  passado = data.loc[data.observationdate == data_ini, var].values[0]\n",
    "  presente = data.loc[data.observationdate == data_fim, var].values[0]\n",
    "\n",
    "  n = (data_fim - data_ini).days\n",
    "\n",
    "  taxa = (presente/passado)**(1/n) - 1\n",
    "\n",
    "  return taxa*100"
   ]
  },
  {
   "cell_type": "code",
   "execution_count": null,
   "metadata": {
    "colab": {
     "base_uri": "https://localhost:8080/"
    },
    "executionInfo": {
     "elapsed": 5,
     "status": "ok",
     "timestamp": 1666740757250,
     "user": {
      "displayName": "Kelvin Leandro",
      "userId": "17919846364529882488"
     },
     "user_tz": 180
    },
    "id": "j-sBIaukfTFb",
    "outputId": "f3fa7bc4-f075-42f5-a690-806cd0ad1ee8"
   },
   "outputs": [],
   "source": [
    "taxa_crescimento(brasil, 'confirmed')"
   ]
  },
  {
   "cell_type": "code",
   "execution_count": null,
   "metadata": {
    "executionInfo": {
     "elapsed": 282,
     "status": "ok",
     "timestamp": 1666741106309,
     "user": {
      "displayName": "Kelvin Leandro",
      "userId": "17919846364529882488"
     },
     "user_tz": 180
    },
    "id": "UuNVYzjhfhVH"
   },
   "outputs": [],
   "source": [
    "def taxa_crescimento_diaria(data, var, data_ini=None):\n",
    "  if data_ini == None:\n",
    "    data_ini = data.observationdate.loc[data[var] > 0].min()\n",
    "  else:\n",
    "    data_ini = pd.to_datetime(data_ini)\n",
    "\n",
    "  data_fim = data.observationdate.max()\n",
    "  n = (data_fim - data_ini).days\n",
    "\n",
    "  taxas = list(map(\n",
    "      lambda x: (data[var].iloc[x] - data[var].iloc[x-1]) / data[var].iloc[x-1],\n",
    "      range(1, n+1)\n",
    "  ))\n",
    "\n",
    "  return np.array(taxas) * 100"
   ]
  },
  {
   "cell_type": "code",
   "execution_count": null,
   "metadata": {
    "id": "rYGrpHiKgY2k"
   },
   "outputs": [],
   "source": [
    "tx_dia = taxa_crescimento_diaria(brasil, 'confirmed')\n",
    "tx_dia"
   ]
  },
  {
   "cell_type": "code",
   "execution_count": null,
   "metadata": {
    "colab": {
     "base_uri": "https://localhost:8080/",
     "height": 542
    },
    "executionInfo": {
     "elapsed": 320,
     "status": "ok",
     "timestamp": 1666741297455,
     "user": {
      "displayName": "Kelvin Leandro",
      "userId": "17919846364529882488"
     },
     "user_tz": 180
    },
    "id": "Ek_8JTgfgzze",
    "outputId": "4725a2d4-b10c-4c98-f616-d90b6f2f4930"
   },
   "outputs": [],
   "source": [
    "primeiro_dia = brasil.observationdate.loc[brasil.confirmed > 0].min()\n",
    "\n",
    "px.line(x=pd.date_range(primeiro_dia, brasil.observationdate.max())[1:], y=tx_dia, title='Taxa de crescimento por dia')"
   ]
  },
  {
   "cell_type": "markdown",
   "metadata": {
    "id": "sRAwPCaShood"
   },
   "source": [
    "## Predições"
   ]
  },
  {
   "cell_type": "code",
   "execution_count": null,
   "metadata": {
    "colab": {
     "base_uri": "https://localhost:8080/"
    },
    "executionInfo": {
     "elapsed": 304,
     "status": "ok",
     "timestamp": 1666741477316,
     "user": {
      "displayName": "Kelvin Leandro",
      "userId": "17919846364529882488"
     },
     "user_tz": 180
    },
    "id": "UiI-CNmahqyK",
    "outputId": "36f45473-857d-479a-eed8-84e301869395"
   },
   "outputs": [],
   "source": [
    "confirmados = brasil.confirmed\n",
    "confirmados.index = brasil.observationdate\n",
    "confirmados"
   ]
  },
  {
   "cell_type": "code",
   "execution_count": null,
   "metadata": {
    "id": "IPG_cryDiaSu"
   },
   "outputs": [],
   "source": [
    "res = seasonal_decompose(confirmados)"
   ]
  },
  {
   "cell_type": "code",
   "execution_count": null,
   "metadata": {
    "id": "T0nBqPSniLY4"
   },
   "outputs": [],
   "source": [
    "# fig, axes = plt.subplots(4, 1, figsize=(10,8))\n",
    "fig, (ax1,ax2,ax3,ax4) = plt.subplots(4, 1, figsize=(10,8))\n",
    "\n",
    "ax1.plot(res.observed)\n",
    "ax2.plot(res.trend)\n",
    "ax3.plot(res.seasonal)\n",
    "ax4.plot(confirmados.index, res.resid)\n",
    "ax4.axhline(0, c='k', linestyle='--')\n",
    "plt.show()"
   ]
  },
  {
   "cell_type": "markdown",
   "metadata": {
    "id": "sAjXSrNvjoKX"
   },
   "source": [
    "## ARIMA"
   ]
  },
  {
   "cell_type": "code",
   "execution_count": null,
   "metadata": {
    "id": "uA3FS-9njpjB"
   },
   "outputs": [],
   "source": [
    "modelo = auto_arima(confirmados)"
   ]
  },
  {
   "cell_type": "code",
   "execution_count": null,
   "metadata": {
    "id": "Auf4IVP9j6u5"
   },
   "outputs": [],
   "source": [
    "fig = go.Figure(go.Scatter(\n",
    "    x=confirmados.index, y=confirmados, name=\"Observados\"\n",
    "))\n",
    "\n",
    "fig.add_trace(go.Scatter(\n",
    "    x=confirmados.index, y=modelo.predict_in_sample(), sample='Preditos'\n",
    "))\n",
    "\n",
    "fig.add_trace(go.Scatter(\n",
    "    x=pd.date_range('2020-05-20', '2020-06-20'), y=modelo.predict(31), sample='Forecast'\n",
    "))\n",
    "\n",
    "fig.update_layout(title='Previsão de casos confirmados no Brasil')"
   ]
  },
  {
   "cell_type": "markdown",
   "metadata": {
    "id": "Xy5uyKf6lO9I"
   },
   "source": [
    "## Modelo de crescimento"
   ]
  },
  {
   "cell_type": "code",
   "execution_count": null,
   "metadata": {
    "id": "rC5D3ETKlkS2"
   },
   "outputs": [],
   "source": [
    "from fbprophet import Prophet"
   ]
  },
  {
   "cell_type": "code",
   "execution_count": null,
   "metadata": {
    "id": "gp6TkgkklqEr"
   },
   "outputs": [],
   "source": [
    "train = confirmados.reset_index()[: -5]\n",
    "test = confirmados.reset_index()[-5:]\n",
    "\n",
    "train.rename(columns={'observationdate':'ds', 'confirmed': 'y'}, inplace=True)\n",
    "test.rename(columns={'observationdate':'ds', 'confirmed': 'y'}, inplace=True)\n",
    "\n",
    "profeta = Prophet(growth='logistic', changepoints=['20-03-21', '2020-03-30', '2020-04-25',\n",
    "                                                  '2020-05-03', '2020-05-10'])\n",
    "\n",
    "\n",
    "pop = 211463256\n",
    "train['cap'] = pop\n",
    "\n",
    "profeta.fit(train)\n",
    "\n",
    "future_dates = profeta.make_future_dataframe(periods=200)\n",
    "future_dates['cap'] = pop\n",
    "forecast = profeta.predict(future_dates)"
   ]
  },
  {
   "cell_type": "code",
   "execution_count": null,
   "metadata": {},
   "outputs": [],
   "source": [
    "fig = go.Figure()\n",
    "\n",
    "fig.add_trace(go.Scatter(x=forecast.ds, y=forecast.yhat, name='Predição'))\n",
    "fig.add_trace(go.Scatter(x=test.index, y=test, name='Observados - Teste'))\n",
    "fig.add_trace(go.Scatter(x=train.ds, y=train.y, name='Observados - Treino'))\n",
    "fig.update_layout(title='Predições de casos confirmados no Brasil')"
   ]
  }
 ],
 "metadata": {
  "colab": {
   "authorship_tag": "ABX9TyO/9KmxImNjusmjI5bQ47uI",
   "collapsed_sections": [
    "ZUnZ5o-hjjY7",
    "U-F5nksgauMg",
    "99IF4Q4fbkAj",
    "eVoaAUlKb8J1",
    "ATQgRBpedJaG",
    "FV699NVfeGEQ",
    "sRAwPCaShood"
   ],
   "provenance": []
  },
  "kernelspec": {
   "display_name": "Python 3",
   "language": "python",
   "name": "python3"
  },
  "language_info": {
   "codemirror_mode": {
    "name": "ipython",
    "version": 3
   },
   "file_extension": ".py",
   "mimetype": "text/x-python",
   "name": "python",
   "nbconvert_exporter": "python",
   "pygments_lexer": "ipython3",
   "version": "3.8.8"
  }
 },
 "nbformat": 4,
 "nbformat_minor": 1
}
